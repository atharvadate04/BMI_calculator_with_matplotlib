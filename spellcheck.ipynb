{
  "nbformat": 4,
  "nbformat_minor": 0,
  "metadata": {
    "colab": {
      "provenance": [],
      "authorship_tag": "ABX9TyOtYZyVuP5UNlso3FzCooOi",
      "include_colab_link": true
    },
    "kernelspec": {
      "name": "python3",
      "display_name": "Python 3"
    },
    "language_info": {
      "name": "python"
    }
  },
  "cells": [
    {
      "cell_type": "markdown",
      "metadata": {
        "id": "view-in-github",
        "colab_type": "text"
      },
      "source": [
        "<a href=\"https://colab.research.google.com/github/atharvadate04/Python-Projects/blob/master/spellcheck.ipynb\" target=\"_parent\"><img src=\"https://colab.research.google.com/assets/colab-badge.svg\" alt=\"Open In Colab\"/></a>"
      ]
    },
    {
      "cell_type": "code",
      "execution_count": null,
      "metadata": {
        "colab": {
          "base_uri": "https://localhost:8080/"
        },
        "id": "L_TkzeF7G5nh",
        "outputId": "af57e971-0c69-4b59-98f4-c9c10ce128a4"
      },
      "outputs": [
        {
          "output_type": "stream",
          "name": "stdout",
          "text": [
            "Enter any word: hero\n",
            "'hero' appears 57 times in the grammar.\n",
            "Did you mean:\n",
            "hero\n",
            "Synonyms for 'hero': zep, Hero_of_Alexandria, grinder, paladin, fighter, torpedo, wedge, hero, bomber, hoagy, Italian_sandwich, champion, Hero, Heron, poor_boy, Cuban_sandwich, sub, hoagie, submarine, submarine_sandwich, hero_sandwich\n"
          ]
        }
      ],
      "source": [
        "import nltk\n",
        "import re\n",
        "from nltk.stem import WordNetLemmatizer\n",
        "from nltk.corpus import words, wordnet\n",
        "\n",
        "nltk_words = set(words.words())\n",
        "lemmatizer = WordNetLemmatizer()\n",
        "\n",
        "with open('/final.txt', 'r', encoding=\"utf8\") as f:\n",
        "    file_name_data = f.read().lower()\n",
        "    words_list = re.findall(r'\\w+', file_name_data)\n",
        "\n",
        "main_set = set(words_list)\n",
        "\n",
        "def counting_words(words):\n",
        "    word_count = {}\n",
        "    for word in words:\n",
        "        word_count[word] = word_count.get(word, 0) + 1\n",
        "    return word_count\n",
        "\n",
        "def lemmatize_word(word):\n",
        "    return lemmatizer.lemmatize(word)\n",
        "\n",
        "def delete_letter(word):\n",
        "    return [word[:i] + word[i+1:] for i in range(len(word))]\n",
        "\n",
        "def switch(word):\n",
        "    return [word[:i] + word[i+1] + word[i] + word[i+2:] for i in range(len(word)-1)]\n",
        "\n",
        "def replace(word):\n",
        "    alphabets = 'abcdefghijklmnopqrstuvwxyz'\n",
        "    return [word[:i] + c + word[i+1:] for i in range(len(word)) for c in alphabets]\n",
        "\n",
        "def insert(word):\n",
        "    alphabets = 'abcdefghijklmnopqrstuvwxyz'\n",
        "    return [word[:i] + c + word[i:] for i in range(len(word)+1) for c in alphabets]\n",
        "\n",
        "def colab_1(word, allow_switches=True):\n",
        "    edits = set(delete_letter(word) + replace(word) + insert(word))\n",
        "    if allow_switches:\n",
        "        edits.update(switch(word))\n",
        "    return edits\n",
        "\n",
        "def colab_2(word, allow_switches=True):\n",
        "    edits = set()\n",
        "    for edit1 in colab_1(word, allow_switches):\n",
        "        edits.update(colab_1(edit1, allow_switches))\n",
        "    return edits\n",
        "\n",
        "def get_corrections(word, vocab, n=2):\n",
        "    suggestions = (word in vocab and [word]) or list(colab_1(word).intersection(vocab)) or list(colab_2(word).intersection(vocab))\n",
        "    return suggestions[:n]\n",
        "\n",
        "def get_synonyms(word):\n",
        "    synonyms = set()\n",
        "    for syn in wordnet.synsets(word):\n",
        "        for lemma in syn.lemmas():\n",
        "            synonyms.add(lemma.name())\n",
        "    return list(synonyms)\n",
        "\n",
        "my_word = input(\"Enter any word: \").lower()\n",
        "lemmatized_word = lemmatize_word(my_word)\n",
        "corrections = get_corrections(lemmatized_word, nltk_words, 5)\n",
        "\n",
        "word_count = counting_words(words_list)\n",
        "if lemmatized_word in word_count:\n",
        "    print(f\"'{my_word}' appears {word_count[lemmatized_word]} times in the grammar.\")\n",
        "else:\n",
        "    print(f\"'{my_word}' does not appear in the grammar.\")\n",
        "\n",
        "if corrections:\n",
        "    print(\"Did you mean:\")\n",
        "    for word in corrections:\n",
        "        print(word)\n",
        "\n",
        "    if corrections:\n",
        "        synonyms = get_synonyms(corrections[0])\n",
        "        if synonyms:\n",
        "            print(f\"Synonyms for '{corrections[0]}': {', '.join(synonyms)}\")\n",
        "        else:\n",
        "            print(f\"No synonyms found for '{corrections[0]}'.\")\n",
        "else:\n",
        "    print(\"No suggestions found.\")\n"
      ]
    }
  ]
}